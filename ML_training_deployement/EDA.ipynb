{
 "cells": [
  {
   "cell_type": "markdown",
   "metadata": {},
   "source": [
    "## EDA"
   ]
  },
  {
   "cell_type": "code",
   "execution_count": 1,
   "metadata": {},
   "outputs": [],
   "source": [
    "import pandas as pd\n",
    "import numpy as np\n",
    "import seaborn as sns\n",
    "import matplotlib.pyplot as plt\n",
    "import plotly.express as px\n",
    "import plotly.graph_objects as go\n"
   ]
  },
  {
   "cell_type": "code",
   "execution_count": 2,
   "metadata": {},
   "outputs": [
    {
     "data": {
      "text/html": [
       "<div>\n",
       "<style scoped>\n",
       "    .dataframe tbody tr th:only-of-type {\n",
       "        vertical-align: middle;\n",
       "    }\n",
       "\n",
       "    .dataframe tbody tr th {\n",
       "        vertical-align: top;\n",
       "    }\n",
       "\n",
       "    .dataframe thead th {\n",
       "        text-align: right;\n",
       "    }\n",
       "</style>\n",
       "<table border=\"1\" class=\"dataframe\">\n",
       "  <thead>\n",
       "    <tr style=\"text-align: right;\">\n",
       "      <th></th>\n",
       "      <th>CUSTOMER_ID</th>\n",
       "      <th>SHOPPING_PT</th>\n",
       "      <th>RECORD_TYPE</th>\n",
       "      <th>DAY</th>\n",
       "      <th>TIME</th>\n",
       "      <th>STATE</th>\n",
       "      <th>LOCATION</th>\n",
       "      <th>GROUP_SIZE</th>\n",
       "      <th>HOMEOWNER</th>\n",
       "      <th>CAR_AGE</th>\n",
       "      <th>...</th>\n",
       "      <th>C_PREVIOUS</th>\n",
       "      <th>DURATION_PREVIOUS</th>\n",
       "      <th>A</th>\n",
       "      <th>B</th>\n",
       "      <th>C</th>\n",
       "      <th>D</th>\n",
       "      <th>E</th>\n",
       "      <th>F</th>\n",
       "      <th>G</th>\n",
       "      <th>COST</th>\n",
       "    </tr>\n",
       "  </thead>\n",
       "  <tbody>\n",
       "    <tr>\n",
       "      <th>0</th>\n",
       "      <td>10000000</td>\n",
       "      <td>1</td>\n",
       "      <td>0.0</td>\n",
       "      <td>0.0</td>\n",
       "      <td>08:35:00</td>\n",
       "      <td>IN</td>\n",
       "      <td>10001.0</td>\n",
       "      <td>2.0</td>\n",
       "      <td>0.0</td>\n",
       "      <td>2.0</td>\n",
       "      <td>...</td>\n",
       "      <td>1.0</td>\n",
       "      <td>2.0</td>\n",
       "      <td>1.0</td>\n",
       "      <td>0.0</td>\n",
       "      <td>2.0</td>\n",
       "      <td>2.0</td>\n",
       "      <td>1.0</td>\n",
       "      <td>2.0</td>\n",
       "      <td>2.0</td>\n",
       "      <td>633</td>\n",
       "    </tr>\n",
       "    <tr>\n",
       "      <th>1</th>\n",
       "      <td>10000000</td>\n",
       "      <td>2</td>\n",
       "      <td>0.0</td>\n",
       "      <td>0.0</td>\n",
       "      <td>08:38:00</td>\n",
       "      <td>IN</td>\n",
       "      <td>10001.0</td>\n",
       "      <td>2.0</td>\n",
       "      <td>0.0</td>\n",
       "      <td>2.0</td>\n",
       "      <td>...</td>\n",
       "      <td>1.0</td>\n",
       "      <td>2.0</td>\n",
       "      <td>1.0</td>\n",
       "      <td>0.0</td>\n",
       "      <td>2.0</td>\n",
       "      <td>2.0</td>\n",
       "      <td>1.0</td>\n",
       "      <td>2.0</td>\n",
       "      <td>1.0</td>\n",
       "      <td>630</td>\n",
       "    </tr>\n",
       "    <tr>\n",
       "      <th>2</th>\n",
       "      <td>10000000</td>\n",
       "      <td>3</td>\n",
       "      <td>0.0</td>\n",
       "      <td>0.0</td>\n",
       "      <td>08:38:00</td>\n",
       "      <td>IN</td>\n",
       "      <td>10001.0</td>\n",
       "      <td>2.0</td>\n",
       "      <td>0.0</td>\n",
       "      <td>2.0</td>\n",
       "      <td>...</td>\n",
       "      <td>1.0</td>\n",
       "      <td>2.0</td>\n",
       "      <td>1.0</td>\n",
       "      <td>0.0</td>\n",
       "      <td>2.0</td>\n",
       "      <td>2.0</td>\n",
       "      <td>1.0</td>\n",
       "      <td>2.0</td>\n",
       "      <td>1.0</td>\n",
       "      <td>630</td>\n",
       "    </tr>\n",
       "    <tr>\n",
       "      <th>3</th>\n",
       "      <td>10000000</td>\n",
       "      <td>4</td>\n",
       "      <td>0.0</td>\n",
       "      <td>0.0</td>\n",
       "      <td>08:39:00</td>\n",
       "      <td>IN</td>\n",
       "      <td>10001.0</td>\n",
       "      <td>2.0</td>\n",
       "      <td>0.0</td>\n",
       "      <td>2.0</td>\n",
       "      <td>...</td>\n",
       "      <td>1.0</td>\n",
       "      <td>2.0</td>\n",
       "      <td>1.0</td>\n",
       "      <td>0.0</td>\n",
       "      <td>2.0</td>\n",
       "      <td>2.0</td>\n",
       "      <td>1.0</td>\n",
       "      <td>2.0</td>\n",
       "      <td>1.0</td>\n",
       "      <td>630</td>\n",
       "    </tr>\n",
       "    <tr>\n",
       "      <th>4</th>\n",
       "      <td>10000000</td>\n",
       "      <td>5</td>\n",
       "      <td>0.0</td>\n",
       "      <td>0.0</td>\n",
       "      <td>11:55:00</td>\n",
       "      <td>IN</td>\n",
       "      <td>10001.0</td>\n",
       "      <td>2.0</td>\n",
       "      <td>0.0</td>\n",
       "      <td>2.0</td>\n",
       "      <td>...</td>\n",
       "      <td>1.0</td>\n",
       "      <td>2.0</td>\n",
       "      <td>1.0</td>\n",
       "      <td>0.0</td>\n",
       "      <td>2.0</td>\n",
       "      <td>2.0</td>\n",
       "      <td>1.0</td>\n",
       "      <td>2.0</td>\n",
       "      <td>1.0</td>\n",
       "      <td>630</td>\n",
       "    </tr>\n",
       "  </tbody>\n",
       "</table>\n",
       "<p>5 rows × 25 columns</p>\n",
       "</div>"
      ],
      "text/plain": [
       "   CUSTOMER_ID  SHOPPING_PT  RECORD_TYPE  DAY      TIME STATE  LOCATION  \\\n",
       "0     10000000            1          0.0  0.0  08:35:00    IN   10001.0   \n",
       "1     10000000            2          0.0  0.0  08:38:00    IN   10001.0   \n",
       "2     10000000            3          0.0  0.0  08:38:00    IN   10001.0   \n",
       "3     10000000            4          0.0  0.0  08:39:00    IN   10001.0   \n",
       "4     10000000            5          0.0  0.0  11:55:00    IN   10001.0   \n",
       "\n",
       "   GROUP_SIZE  HOMEOWNER  CAR_AGE  ... C_PREVIOUS  DURATION_PREVIOUS    A  \\\n",
       "0         2.0        0.0      2.0  ...        1.0                2.0  1.0   \n",
       "1         2.0        0.0      2.0  ...        1.0                2.0  1.0   \n",
       "2         2.0        0.0      2.0  ...        1.0                2.0  1.0   \n",
       "3         2.0        0.0      2.0  ...        1.0                2.0  1.0   \n",
       "4         2.0        0.0      2.0  ...        1.0                2.0  1.0   \n",
       "\n",
       "     B    C    D    E    F    G  COST  \n",
       "0  0.0  2.0  2.0  1.0  2.0  2.0   633  \n",
       "1  0.0  2.0  2.0  1.0  2.0  1.0   630  \n",
       "2  0.0  2.0  2.0  1.0  2.0  1.0   630  \n",
       "3  0.0  2.0  2.0  1.0  2.0  1.0   630  \n",
       "4  0.0  2.0  2.0  1.0  2.0  1.0   630  \n",
       "\n",
       "[5 rows x 25 columns]"
      ]
     },
     "execution_count": 2,
     "metadata": {},
     "output_type": "execute_result"
    }
   ],
   "source": [
    "df = pd.read_csv('preprocessed_data.csv')\n",
    "df.head()\n"
   ]
  },
  {
   "cell_type": "code",
   "execution_count": 3,
   "metadata": {},
   "outputs": [
    {
     "data": {
      "text/plain": [
       "Index(['CUSTOMER_ID', 'SHOPPING_PT', 'RECORD_TYPE', 'DAY', 'TIME', 'STATE',\n",
       "       'LOCATION', 'GROUP_SIZE', 'HOMEOWNER', 'CAR_AGE', 'CAR_VALUE',\n",
       "       'RISK_FACTOR', 'AGE_OLDEST', 'AGE_YOUNGEST', 'MARRIED_COUPLE',\n",
       "       'C_PREVIOUS', 'DURATION_PREVIOUS', 'A', 'B', 'C', 'D', 'E', 'F', 'G',\n",
       "       'COST'],\n",
       "      dtype='object')"
      ]
     },
     "execution_count": 3,
     "metadata": {},
     "output_type": "execute_result"
    }
   ],
   "source": [
    "df.columns"
   ]
  },
  {
   "cell_type": "markdown",
   "metadata": {},
   "source": [
    "DISTRIBUTION OF FEATURES"
   ]
  },
  {
   "cell_type": "code",
   "execution_count": null,
   "metadata": {},
   "outputs": [],
   "source": [
    "# Distribution of RECORD_TYPE by risk factor using seaborn\n",
    "plt.figure(figsize=(10, 6))\n",
    "sns.boxplot(x='RECORD_TYPE', y='COST', data=df)\n",
    "plt.title('Distribution of Cost by Risk Factor')\n",
    "plt.show()"
   ]
  },
  {
   "cell_type": "code",
   "execution_count": null,
   "metadata": {},
   "outputs": [],
   "source": [
    "# Pairplot using seaborn to visualize relationships between variables\n",
    "sns.pairplot(df[['AGE_OLDEST', 'AGE_YOUNGEST', 'CAR_AGE', 'COST']])\n",
    "plt.show()"
   ]
  },
  {
   "cell_type": "code",
   "execution_count": null,
   "metadata": {},
   "outputs": [],
   "source": [
    "# Plotly interactive scatter plot\n",
    "fig = px.scatter(df, x='AGE_OLDEST', y='COST', color='RISK_FACTOR', \n",
    "                 title='Cost vs Age of Oldest Customer by Risk Factor')\n",
    "fig.show()"
   ]
  },
  {
   "cell_type": "code",
   "execution_count": null,
   "metadata": {},
   "outputs": [],
   "source": [
    "# Distribution of cost by risk factor using seaborn\n",
    "plt.figure(figsize=(10, 6))\n",
    "sns.boxplot(x='RISK_FACTOR', y='COST', data=df)\n",
    "plt.title('Distribution of Cost by Risk Factor')\n",
    "plt.show()"
   ]
  },
  {
   "cell_type": "code",
   "execution_count": null,
   "metadata": {},
   "outputs": [],
   "source": [
    "# Interactive plot for car value\n",
    "fig = px.bar(df, x='CAR_VALUE', y='COST', \n",
    "                   title='Cost Distribution by Car Value')\n",
    "fig.show()"
   ]
  },
  {
   "cell_type": "code",
   "execution_count": null,
   "metadata": {},
   "outputs": [],
   "source": [
    "# Bar plot for coverage options using seaborn\n",
    "plt.figure(figsize=(12, 6))\n",
    "sns.countplot(x='A', data=df, palette='viridis')\n",
    "plt.title('Count of Coverage Option A')\n",
    "plt.show()"
   ]
  },
  {
   "cell_type": "code",
   "execution_count": null,
   "metadata": {},
   "outputs": [],
   "source": [
    "# Interactive bar plot for STATE vs COST\n",
    "fig = px.bar(df, x='STATE', y='COST', title='Average Cost by State')\n",
    "fig.show()"
   ]
  },
  {
   "cell_type": "code",
   "execution_count": null,
   "metadata": {},
   "outputs": [],
   "source": [
    "# Data Distribution of target column\n",
    "plt.hist(df['COST']); plt.title('Cost of Insurance Policy')\n",
    "plt.xlabel('Cost')\n",
    "plt.ylabel('Frequency')\n",
    "plt.show()"
   ]
  },
  {
   "cell_type": "code",
   "execution_count": null,
   "metadata": {},
   "outputs": [],
   "source": [
    "# Bivariate analysis: Correlation matrix and heatmap\n",
    "plt.figure(figsize=(20, 12))\n",
    "sns.heatmap(df.drop(['TIME','STATE','CAR_VALUE'], axis =1).corr(), annot=True, cmap='coolwarm')\n",
    "plt.title('Correlation Matrix')\n",
    "plt.show()"
   ]
  },
  {
   "cell_type": "code",
   "execution_count": null,
   "metadata": {},
   "outputs": [],
   "source": [
    "# Univariate analysis: Bar plots for categorical columns\n",
    "disc_cols = ['RECORD_TYPE', 'DAY','GROUP_SIZE', 'HOMEOWNER','RISK_FACTOR','MARRIED_COUPLE','C_PREVIOUS', 'DURATION_PREVIOUS', 'A', 'B', 'C', 'D', 'E', 'F', 'G']\n",
    "cat_cols = df.select_dtypes(include=['category']).columns.tolist()\n",
    "merged_cat_cols = disc_cols + cat_cols\n",
    "\n",
    "for col in merged_cat_cols:\n",
    "    plt.figure(figsize=(8, 4))\n",
    "    sns.countplot(data=df, x=col)\n",
    "    plt.title(f'Count of {col}')\n",
    "    plt.xlabel(col)\n",
    "    plt.ylabel('Count')\n",
    "    plt.xticks(rotation=45)\n",
    "    plt.show()"
   ]
  },
  {
   "cell_type": "code",
   "execution_count": null,
   "metadata": {},
   "outputs": [],
   "source": [
    "# Univariate analysis: Histogram for numerical columns\n",
    "num_cols = ['COST','AGE_YOUNGEST','AGE_OLDEST','CAR_AGE','LOCATION']\n",
    "for col in num_cols:\n",
    "    plt.figure(figsize=(8, 4))\n",
    "    sns.histplot(df[col], kde=True)\n",
    "    plt.title(f'Distribution of {col}')\n",
    "    plt.xlabel(col)\n",
    "    plt.ylabel('Frequency')\n",
    "    plt.show()"
   ]
  },
  {
   "cell_type": "code",
   "execution_count": null,
   "metadata": {},
   "outputs": [],
   "source": [
    "# Box plots for categorical variables vs. 'cost'\n",
    "for col in merged_cat_cols:\n",
    "    plt.figure(figsize=(8, 4))\n",
    "    sns.boxplot(data=df, x=col, y='COST')\n",
    "    plt.title(f'{col} vs. Cost')\n",
    "    plt.xlabel(col)\n",
    "    plt.ylabel('COST')\n",
    "    plt.xticks(rotation=45)\n",
    "    plt.show()"
   ]
  },
  {
   "cell_type": "code",
   "execution_count": null,
   "metadata": {},
   "outputs": [],
   "source": [
    "# Bivariate analysis: Scatter plots for numeric variables vs. 'cost'\n",
    "for col in num_cols:\n",
    "    if col != 'COST':\n",
    "        plt.figure(figsize=(8, 4))\n",
    "        sns.scatterplot(data=df, x=col, y='COST')\n",
    "        plt.title(f'{col} vs. COST')\n",
    "        plt.xlabel(col)\n",
    "        plt.ylabel('COST')\n",
    "        plt.show()\n"
   ]
  }
 ],
 "metadata": {
  "kernelspec": {
   "display_name": "Python 3",
   "language": "python",
   "name": "python3"
  },
  "language_info": {
   "codemirror_mode": {
    "name": "ipython",
    "version": 3
   },
   "file_extension": ".py",
   "mimetype": "text/x-python",
   "name": "python",
   "nbconvert_exporter": "python",
   "pygments_lexer": "ipython3",
   "version": "3.10.12"
  }
 },
 "nbformat": 4,
 "nbformat_minor": 2
}
